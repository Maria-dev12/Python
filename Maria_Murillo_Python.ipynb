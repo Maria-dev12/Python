{
  "nbformat": 4,
  "nbformat_minor": 0,
  "metadata": {
    "colab": {
      "provenance": []
    },
    "kernelspec": {
      "name": "python3",
      "display_name": "Python 3"
    },
    "language_info": {
      "name": "python"
    }
  },
  "cells": [
    {
      "cell_type": "markdown",
      "source": [
        "# **MI PRIMERA CLASE DE PYTHON**"
      ],
      "metadata": {
        "id": "TkGa3za_mDZZ"
      }
    },
    {
      "cell_type": "markdown",
      "source": [
        "Utilizamos el print para imprimir mensajes"
      ],
      "metadata": {
        "id": "N46hkxTOmUM8"
      }
    },
    {
      "cell_type": "code",
      "source": [
        "#Esto no es una broma\n",
        "print (\"Diosito no me abandones, quiero terminar mi carrera\")"
      ],
      "metadata": {
        "colab": {
          "base_uri": "https://localhost:8080/"
        },
        "id": "6AfhS6CnmF6v",
        "outputId": "58ac2d2d-7747-4ed7-f7cd-4b6b00e3f965"
      },
      "execution_count": null,
      "outputs": [
        {
          "output_type": "stream",
          "name": "stdout",
          "text": [
            "Diosito no me abandones, quiero terminar mi carrera\n"
          ]
        }
      ]
    },
    {
      "cell_type": "code",
      "source": [
        "# Esta soy yo\n",
        "print (\"Hola soy María Vannesa, tengo 22 años, me gusta bailar y comer jeje, vivo con mis hermanas pero pronto me mudare\")"
      ],
      "metadata": {
        "colab": {
          "base_uri": "https://localhost:8080/"
        },
        "id": "6b8h-El7mNYx",
        "outputId": "85afa306-cb92-4b79-f994-930c5cadf6ff"
      },
      "execution_count": null,
      "outputs": [
        {
          "output_type": "stream",
          "name": "stdout",
          "text": [
            "Hola soy María Vannesa, tengo 22 años, me gusta bailar y comer jeje, vivo con mis hermanas pero pronto me mudare\n"
          ]
        }
      ]
    },
    {
      "cell_type": "code",
      "source": [
        "\"Ahí voy de tonto recordando y nunca paro.\""
      ],
      "metadata": {
        "colab": {
          "base_uri": "https://localhost:8080/"
        },
        "id": "PLXzctyQmPLZ",
        "outputId": "d3d1aea4-b29e-4835-f166-daec106b21ca"
      },
      "execution_count": null,
      "outputs": [
        {
          "output_type": "execute_result",
          "data": {
            "text/plain": [
              "'Ahí voy de tonto recordando y nunca paro.'"
            ],
            "application/vnd.google.colaboratory.intrinsic+json": {
              "type": "string"
            }
          },
          "metadata": {},
          "execution_count": 28
        }
      ]
    },
    {
      "cell_type": "markdown",
      "source": [
        "# **TIPOS DE DATOS**"
      ],
      "metadata": {
        "id": "QsEnMs8JmYKk"
      }
    },
    {
      "cell_type": "code",
      "source": [
        "#Tipo de dato entero, en inglés integer y la abreviatura para python es int\n",
        "type (22)"
      ],
      "metadata": {
        "colab": {
          "base_uri": "https://localhost:8080/"
        },
        "id": "FKOe3FF3mR6q",
        "outputId": "f9348c56-e4fd-422b-ef94-791ba6604132"
      },
      "execution_count": null,
      "outputs": [
        {
          "output_type": "execute_result",
          "data": {
            "text/plain": [
              "int"
            ]
          },
          "metadata": {},
          "execution_count": 29
        }
      ]
    },
    {
      "cell_type": "code",
      "source": [
        "#Tipo de dato flotante, en español, números decimales, y en inglés float y la abreviación para python es float\n",
        "type (3.13)"
      ],
      "metadata": {
        "colab": {
          "base_uri": "https://localhost:8080/"
        },
        "id": "agVG47iumb_R",
        "outputId": "a3ad8aeb-28f5-4c47-92e0-4dd8b67d3679"
      },
      "execution_count": null,
      "outputs": [
        {
          "output_type": "execute_result",
          "data": {
            "text/plain": [
              "float"
            ]
          },
          "metadata": {},
          "execution_count": 30
        }
      ]
    },
    {
      "cell_type": "code",
      "source": [
        "#Tipo de dato boleanos, tipo de datos que solo pueden tener dos valores True (Verdadero) o False (Falso), su abreviatura para python es bool\n",
        "type (True)"
      ],
      "metadata": {
        "colab": {
          "base_uri": "https://localhost:8080/"
        },
        "id": "CAezSnWamdzS",
        "outputId": "7649381f-77b7-4d06-f404-3831bc6e8b3b"
      },
      "execution_count": null,
      "outputs": [
        {
          "output_type": "execute_result",
          "data": {
            "text/plain": [
              "bool"
            ]
          },
          "metadata": {},
          "execution_count": 31
        }
      ]
    },
    {
      "cell_type": "code",
      "source": [
        "#Tipo de dato cadena, en inglés strings, siempre deben tener \"\" ó '' y su abreviación para python es str\n",
        "type (\"Somos Galias 100% data\")"
      ],
      "metadata": {
        "colab": {
          "base_uri": "https://localhost:8080/"
        },
        "id": "F3nlMtovmfUK",
        "outputId": "3e386bf1-f0a1-4d17-8ac6-95e65cadcb1c"
      },
      "execution_count": null,
      "outputs": [
        {
          "output_type": "execute_result",
          "data": {
            "text/plain": [
              "str"
            ]
          },
          "metadata": {},
          "execution_count": 32
        }
      ]
    },
    {
      "cell_type": "markdown",
      "source": [
        "# **METODOS DE LAS CADENAS (STRING)**"
      ],
      "metadata": {
        "id": "uOmiIxYvmiqD"
      }
    },
    {
      "cell_type": "markdown",
      "source": [
        "las cadenas tienen funciones pequeñas que me ayudan a formatearlas."
      ],
      "metadata": {
        "id": "wK1eMdWvmkKm"
      }
    },
    {
      "cell_type": "code",
      "source": [
        "print (\"Hola estoy aprendiendo python\".upper())#Este método me sirve para colocar mayúsculas\n",
        "print (\"Con pYtHon pUedo pEDir Un auMento\".lower())#Este método me sirve para colocar minúsculas\n",
        "print (\"Uno siempre cambia al amor de su vida, por otra vida o por otro amor\".title())#Este método sirve para colocar la primera letra de cada palabra en mayúscula"
      ],
      "metadata": {
        "colab": {
          "base_uri": "https://localhost:8080/"
        },
        "id": "goe2gVr9mhFS",
        "outputId": "fbcb40e2-d602-4108-dafe-190525bd9a99"
      },
      "execution_count": null,
      "outputs": [
        {
          "output_type": "stream",
          "name": "stdout",
          "text": [
            "HOLA ESTOY APRENDIENDO PYTHON\n",
            "con python puedo pedir un aumento\n",
            "Uno Siempre Cambia Al Amor De Su Vida, Por Otra Vida O Por Otro Amor\n"
          ]
        }
      ]
    },
    {
      "cell_type": "code",
      "source": [
        "#Para contar una letra de una cadena debemos usar el método count\n",
        "print (\"La inteligencia artificial (IA) es un campo de la informática\".count('a'))"
      ],
      "metadata": {
        "colab": {
          "base_uri": "https://localhost:8080/"
        },
        "id": "pdHp16kHmnOr",
        "outputId": "ad330e7a-e9a1-4b78-d95a-d447f30b2e84"
      },
      "execution_count": null,
      "outputs": [
        {
          "output_type": "stream",
          "name": "stdout",
          "text": [
            "7\n"
          ]
        }
      ]
    },
    {
      "cell_type": "code",
      "source": [
        "#Para escribir en varias líneas se deben utilizar tres \"\"\n",
        "print (\"\"\"Mi edad es 22 años\n",
        "Mi género es femenino\"\"\")"
      ],
      "metadata": {
        "colab": {
          "base_uri": "https://localhost:8080/"
        },
        "id": "xW-hwh1GmqES",
        "outputId": "e1a556bd-15f7-4edd-bde4-b282acd9c78d"
      },
      "execution_count": null,
      "outputs": [
        {
          "output_type": "stream",
          "name": "stdout",
          "text": [
            "Mi edad es 22 años\n",
            "Mi género es femenino\n"
          ]
        }
      ]
    },
    {
      "cell_type": "code",
      "source": [
        "#Cómo reemplazar un valor dentro de una cadena utilizando reemplace\n",
        "print (\"Hola Soy María Vannesa\".replace('a','A'))"
      ],
      "metadata": {
        "colab": {
          "base_uri": "https://localhost:8080/"
        },
        "id": "lqCYXOEqmrRk",
        "outputId": "9a51c0af-69e6-4012-a81b-edb4d3d13630"
      },
      "execution_count": null,
      "outputs": [
        {
          "output_type": "stream",
          "name": "stdout",
          "text": [
            "HolA Soy MAríA VAnnesA\n"
          ]
        }
      ]
    },
    {
      "cell_type": "code",
      "source": [
        "print (\"maría vannesa murillo ortiz\".replace('m','M'))\n",
        "print (\"María vannesa Murillo ortiz\".replace('v','V'))\n",
        "print (\"María Vannesa Murillo ortiz\".replace('o','O'))"
      ],
      "metadata": {
        "colab": {
          "base_uri": "https://localhost:8080/"
        },
        "id": "l3v4ee0Ims3r",
        "outputId": "a3a443a0-4f0d-4dff-947e-db666e89dc8e"
      },
      "execution_count": null,
      "outputs": [
        {
          "output_type": "stream",
          "name": "stdout",
          "text": [
            "María vannesa Murillo ortiz\n",
            "María Vannesa Murillo ortiz\n",
            "María Vannesa MurillO Ortiz\n"
          ]
        }
      ]
    },
    {
      "cell_type": "markdown",
      "source": [
        "# **VARIABLES**"
      ],
      "metadata": {
        "id": "G0A5lI79mw72"
      }
    },
    {
      "cell_type": "markdown",
      "source": [
        "son espacios de memória que nos sirven para guardar información particular, deben tener un nombre que nos ayude a identificar su contenido."
      ],
      "metadata": {
        "id": "hsp_Uqxzm3Tn"
      }
    },
    {
      "cell_type": "code",
      "source": [
        "#Para declarar una variable se usa nombre de la variable, el signo igual y el valor\n",
        "#Ejemplo: edad=22\n",
        "nombre=\"María Vannesa\"\n",
        "apellido=\"Murillo Ortiz\"\n",
        "edad=22\n",
        "estado_civil=\"Casada\""
      ],
      "metadata": {
        "id": "y3tJGLuVmu6q"
      },
      "execution_count": null,
      "outputs": []
    },
    {
      "cell_type": "code",
      "source": [
        "nombre"
      ],
      "metadata": {
        "colab": {
          "base_uri": "https://localhost:8080/"
        },
        "id": "sm1M8Pr5m5Hj",
        "outputId": "57e9ba50-4956-4d3a-d667-f2f22f1d78b4"
      },
      "execution_count": null,
      "outputs": [
        {
          "output_type": "execute_result",
          "data": {
            "text/plain": [
              "'María Vannesa'"
            ],
            "application/vnd.google.colaboratory.intrinsic+json": {
              "type": "string"
            }
          },
          "metadata": {},
          "execution_count": 39
        }
      ]
    },
    {
      "cell_type": "code",
      "source": [
        "apellido"
      ],
      "metadata": {
        "colab": {
          "base_uri": "https://localhost:8080/"
        },
        "id": "0udh4Coxm-Xb",
        "outputId": "866fdf07-fa43-427b-bfcd-f592040d5b99"
      },
      "execution_count": null,
      "outputs": [
        {
          "output_type": "execute_result",
          "data": {
            "text/plain": [
              "'Murillo Ortiz'"
            ],
            "application/vnd.google.colaboratory.intrinsic+json": {
              "type": "string"
            }
          },
          "metadata": {},
          "execution_count": 40
        }
      ]
    },
    {
      "cell_type": "code",
      "source": [
        "edad"
      ],
      "metadata": {
        "colab": {
          "base_uri": "https://localhost:8080/"
        },
        "id": "04PXzyUNnBtj",
        "outputId": "157d2fe1-f6c4-461d-a4bb-9e1beb0703c4"
      },
      "execution_count": null,
      "outputs": [
        {
          "output_type": "execute_result",
          "data": {
            "text/plain": [
              "22"
            ]
          },
          "metadata": {},
          "execution_count": 41
        }
      ]
    },
    {
      "cell_type": "code",
      "source": [
        "estado_civil"
      ],
      "metadata": {
        "colab": {
          "base_uri": "https://localhost:8080/"
        },
        "id": "VdGAew7qnCtT",
        "outputId": "d439d3c7-a94b-4ff8-d5e4-2d42b39dc08a"
      },
      "execution_count": null,
      "outputs": [
        {
          "output_type": "execute_result",
          "data": {
            "text/plain": [
              "'Casada'"
            ],
            "application/vnd.google.colaboratory.intrinsic+json": {
              "type": "string"
            }
          },
          "metadata": {},
          "execution_count": 42
        }
      ]
    },
    {
      "cell_type": "code",
      "source": [
        "#Nombre de mi mascota\n",
        "mascota_nombre=\"Bengi\"\n",
        "mascota_apellido=\"Mentiras\""
      ],
      "metadata": {
        "id": "LuAIUpgInDIm"
      },
      "execution_count": null,
      "outputs": []
    },
    {
      "cell_type": "code",
      "source": [
        "mascota_apellido=\"Verdades\""
      ],
      "metadata": {
        "id": "GsGAmbeKnExl"
      },
      "execution_count": null,
      "outputs": []
    },
    {
      "cell_type": "code",
      "source": [
        "mascota_apellido"
      ],
      "metadata": {
        "colab": {
          "base_uri": "https://localhost:8080/"
        },
        "id": "zUx9fafrnGQy",
        "outputId": "b24b6f6d-6445-4866-832c-af7266994204"
      },
      "execution_count": null,
      "outputs": [
        {
          "output_type": "execute_result",
          "data": {
            "text/plain": [
              "'Verdades'"
            ],
            "application/vnd.google.colaboratory.intrinsic+json": {
              "type": "string"
            }
          },
          "metadata": {},
          "execution_count": 45
        }
      ]
    },
    {
      "cell_type": "code",
      "source": [
        "#Esta es una varible con un mensaje\n",
        "mensaje_1=\"Ahora que sé que python, Alexandra no me va a ganar\"\n",
        "mensaje_1"
      ],
      "metadata": {
        "colab": {
          "base_uri": "https://localhost:8080/"
        },
        "id": "XtPPwtWfnKho",
        "outputId": "10b96ded-755c-4e62-adb1-063d5f58ddbd"
      },
      "execution_count": null,
      "outputs": [
        {
          "output_type": "execute_result",
          "data": {
            "text/plain": [
              "'Ahora que sé que python, Alexandra no me va a ganar'"
            ],
            "application/vnd.google.colaboratory.intrinsic+json": {
              "type": "string"
            }
          },
          "metadata": {},
          "execution_count": 46
        }
      ]
    },
    {
      "cell_type": "code",
      "source": [
        "#Acá no solo guarde la variable si no que la mostre de una vez\n",
        "mensaje_2=\"Porque yo voy con toda\"\n",
        "mensaje_2"
      ],
      "metadata": {
        "colab": {
          "base_uri": "https://localhost:8080/"
        },
        "id": "NHbReGM2nMzk",
        "outputId": "4271e3e6-4c62-4119-b227-86d497ad5255"
      },
      "execution_count": null,
      "outputs": [
        {
          "output_type": "execute_result",
          "data": {
            "text/plain": [
              "'Porque yo voy con toda'"
            ],
            "application/vnd.google.colaboratory.intrinsic+json": {
              "type": "string"
            }
          },
          "metadata": {},
          "execution_count": 47
        }
      ]
    },
    {
      "cell_type": "code",
      "source": [
        "#Así concateno en python\n",
        "mensaje_1 + mensaje_2"
      ],
      "metadata": {
        "colab": {
          "base_uri": "https://localhost:8080/"
        },
        "id": "LpvcxRdYnPjE",
        "outputId": "05b8d8ed-bf99-4d54-9b50-cc119c1f8d3c"
      },
      "execution_count": null,
      "outputs": [
        {
          "output_type": "execute_result",
          "data": {
            "text/plain": [
              "'Ahora que sé que python, Alexandra no me va a ganarPorque yo voy con toda'"
            ],
            "application/vnd.google.colaboratory.intrinsic+json": {
              "type": "string"
            }
          },
          "metadata": {},
          "execution_count": 48
        }
      ]
    },
    {
      "cell_type": "code",
      "source": [
        "#Para agregar un espacio al momento de concatenar declaro una varible vacia\n",
        "espacio=\" \"\n",
        "#Así concateno varias variables\n",
        "mensaje_1+espacio+mensaje_2"
      ],
      "metadata": {
        "colab": {
          "base_uri": "https://localhost:8080/"
        },
        "id": "VdkJ0IU3nRD-",
        "outputId": "5d8b01e2-f983-45b7-8cf9-a837514b2efa"
      },
      "execution_count": null,
      "outputs": [
        {
          "output_type": "execute_result",
          "data": {
            "text/plain": [
              "'Ahora que sé que python, Alexandra no me va a ganar Porque yo voy con toda'"
            ],
            "application/vnd.google.colaboratory.intrinsic+json": {
              "type": "string"
            }
          },
          "metadata": {},
          "execution_count": 49
        }
      ]
    },
    {
      "cell_type": "code",
      "source": [
        "#Así guardo la concatenación en una variable\n",
        "mensaje_completo=mensaje_1+espacio+mensaje_2\n",
        "mensaje_completo"
      ],
      "metadata": {
        "colab": {
          "base_uri": "https://localhost:8080/"
        },
        "id": "J6r8WYVvnSzU",
        "outputId": "c19fc9e4-2d3d-4bc3-e6a7-237310aaf435"
      },
      "execution_count": null,
      "outputs": [
        {
          "output_type": "execute_result",
          "data": {
            "text/plain": [
              "'Ahora que sé que python, Alexandra no me va a ganar Porque yo voy con toda'"
            ],
            "application/vnd.google.colaboratory.intrinsic+json": {
              "type": "string"
            }
          },
          "metadata": {},
          "execution_count": 50
        }
      ]
    },
    {
      "cell_type": "markdown",
      "source": [
        "# **LISTAS**"
      ],
      "metadata": {
        "id": "Zx4ExSPynWOb"
      }
    },
    {
      "cell_type": "markdown",
      "source": [
        "Son tipos de datos mutables y ordenados, son las más usadas al trabajar con datos, para declarar una lista, uso: []"
      ],
      "metadata": {
        "id": "bnJWkf-3nXuy"
      }
    },
    {
      "cell_type": "code",
      "source": [
        "#Las listas se definene como el siguiente ejemplo:\n",
        "#datos=[\"María\",\"Vannesa\",\"Murillo\",\"Ortiz\",22, \"Casada\", 1.51]\n",
        "paises=[\"Colombia\",\"Ecuador\",\"Mexico\",\"China\",\"Francia\",\"Paraguay\"]\n",
        "paises"
      ],
      "metadata": {
        "colab": {
          "base_uri": "https://localhost:8080/"
        },
        "id": "Be_ZgZ9vnUb8",
        "outputId": "6f67c2e2-5560-4874-de74-3b4fb9b0dad8"
      },
      "execution_count": null,
      "outputs": [
        {
          "output_type": "execute_result",
          "data": {
            "text/plain": [
              "['Colombia', 'Ecuador', 'Mexico', 'China', 'Francia', 'Paraguay']"
            ]
          },
          "metadata": {},
          "execution_count": 51
        }
      ]
    },
    {
      "cell_type": "code",
      "source": [
        "#Las listas tienen indices automaticos, que se generan cuando creo la lista, sin embargo, estos no son visibles hasta que los llamo\n",
        "paises[0]"
      ],
      "metadata": {
        "colab": {
          "base_uri": "https://localhost:8080/",
          "height": 35
        },
        "id": "PF_nfsWSnbGm",
        "outputId": "0fe74c7d-07dc-449b-d065-003c0c31f08a"
      },
      "execution_count": null,
      "outputs": [
        {
          "output_type": "execute_result",
          "data": {
            "text/plain": [
              "'Colombia'"
            ],
            "application/vnd.google.colaboratory.intrinsic+json": {
              "type": "string"
            }
          },
          "metadata": {},
          "execution_count": 52
        }
      ]
    },
    {
      "cell_type": "code",
      "source": [
        "paises[-6]"
      ],
      "metadata": {
        "colab": {
          "base_uri": "https://localhost:8080/",
          "height": 35
        },
        "id": "yYKfPdFGndC0",
        "outputId": "b5ef9c10-1641-4632-ca63-926980fe4240"
      },
      "execution_count": null,
      "outputs": [
        {
          "output_type": "execute_result",
          "data": {
            "text/plain": [
              "'Colombia'"
            ],
            "application/vnd.google.colaboratory.intrinsic+json": {
              "type": "string"
            }
          },
          "metadata": {},
          "execution_count": 53
        }
      ]
    },
    {
      "cell_type": "code",
      "source": [
        "paises[3]"
      ],
      "metadata": {
        "colab": {
          "base_uri": "https://localhost:8080/",
          "height": 35
        },
        "id": "L1jd2G-Nne1W",
        "outputId": "fcfe5db2-819f-4574-8d7f-813742679f10"
      },
      "execution_count": null,
      "outputs": [
        {
          "output_type": "execute_result",
          "data": {
            "text/plain": [
              "'China'"
            ],
            "application/vnd.google.colaboratory.intrinsic+json": {
              "type": "string"
            }
          },
          "metadata": {},
          "execution_count": 54
        }
      ]
    },
    {
      "cell_type": "code",
      "source": [
        "#Llamar a francia desde la izquierda\n",
        "paises[4]"
      ],
      "metadata": {
        "colab": {
          "base_uri": "https://localhost:8080/",
          "height": 35
        },
        "id": "cqAdgAKXnhnl",
        "outputId": "61cec3b8-eada-4ef2-a6fd-8e64bde2de11"
      },
      "execution_count": null,
      "outputs": [
        {
          "output_type": "execute_result",
          "data": {
            "text/plain": [
              "'Francia'"
            ],
            "application/vnd.google.colaboratory.intrinsic+json": {
              "type": "string"
            }
          },
          "metadata": {},
          "execution_count": 55
        }
      ]
    },
    {
      "cell_type": "code",
      "source": [
        "#Llamar a francia desde la derecha\n",
        "paises[-2]"
      ],
      "metadata": {
        "colab": {
          "base_uri": "https://localhost:8080/",
          "height": 35
        },
        "id": "lnVL0XspnjZd",
        "outputId": "bfd3cfbf-f75b-4be4-b5e3-126e01ebcf3e"
      },
      "execution_count": null,
      "outputs": [
        {
          "output_type": "execute_result",
          "data": {
            "text/plain": [
              "'Francia'"
            ],
            "application/vnd.google.colaboratory.intrinsic+json": {
              "type": "string"
            }
          },
          "metadata": {},
          "execution_count": 56
        }
      ]
    },
    {
      "cell_type": "code",
      "source": [
        "#La técnica del slicing me permite cortar pedazos de lista y guardarlos en una variable\n",
        "#Cortemos:\n",
        "paises[1:3]"
      ],
      "metadata": {
        "colab": {
          "base_uri": "https://localhost:8080/"
        },
        "id": "2pP4Q0vZnk9F",
        "outputId": "e84b3df3-2f74-4464-8317-3947b9600228"
      },
      "execution_count": null,
      "outputs": [
        {
          "output_type": "execute_result",
          "data": {
            "text/plain": [
              "['Ecuador', 'Mexico']"
            ]
          },
          "metadata": {},
          "execution_count": 57
        }
      ]
    },
    {
      "cell_type": "code",
      "source": [
        "corte_paises=paises[1:3]\n",
        "corte_paises"
      ],
      "metadata": {
        "colab": {
          "base_uri": "https://localhost:8080/"
        },
        "id": "l11Jm-qknmiU",
        "outputId": "2e38a7d9-51f0-4758-93f6-c330f7d7d9a4"
      },
      "execution_count": null,
      "outputs": [
        {
          "output_type": "execute_result",
          "data": {
            "text/plain": [
              "['Ecuador', 'Mexico']"
            ]
          },
          "metadata": {},
          "execution_count": 58
        }
      ]
    },
    {
      "cell_type": "code",
      "source": [
        "#Si no conozco los demás items de la lista y quiero cortar, dejo vacio el campo\n",
        "paises[1:]"
      ],
      "metadata": {
        "colab": {
          "base_uri": "https://localhost:8080/"
        },
        "id": "9CSwmUtEnnsc",
        "outputId": "5dd71da9-0a66-45b0-9be6-55e5fb2f0b7a"
      },
      "execution_count": null,
      "outputs": [
        {
          "output_type": "execute_result",
          "data": {
            "text/plain": [
              "['Ecuador', 'Mexico', 'China', 'Francia', 'Paraguay']"
            ]
          },
          "metadata": {},
          "execution_count": 59
        }
      ]
    },
    {
      "cell_type": "code",
      "source": [
        "paises[:5]"
      ],
      "metadata": {
        "colab": {
          "base_uri": "https://localhost:8080/"
        },
        "id": "TTYS_f-qnpYO",
        "outputId": "aae21a43-5b4d-4aef-d8c9-cb2a23fdac1d"
      },
      "execution_count": null,
      "outputs": [
        {
          "output_type": "execute_result",
          "data": {
            "text/plain": [
              "['Colombia', 'Ecuador', 'Mexico', 'China', 'Francia']"
            ]
          },
          "metadata": {},
          "execution_count": 60
        }
      ]
    },
    {
      "cell_type": "code",
      "source": [
        "#Así agrego elementos al final de una lista, utilizo el método append\n",
        "paises.append(\"RUSIA\")\n",
        "paises"
      ],
      "metadata": {
        "colab": {
          "base_uri": "https://localhost:8080/"
        },
        "id": "UjzaQTVEnrXe",
        "outputId": "128635e2-5923-4e98-921c-9bedb17e6e16"
      },
      "execution_count": null,
      "outputs": [
        {
          "output_type": "execute_result",
          "data": {
            "text/plain": [
              "['Colombia', 'Ecuador', 'Mexico', 'China', 'Francia', 'Paraguay', 'RUSIA']"
            ]
          },
          "metadata": {},
          "execution_count": 61
        }
      ]
    },
    {
      "cell_type": "code",
      "source": [
        "#Así agrego un dato en la posicion de la lista que desee, uso insert\n",
        "paises.insert(0,\"Venezuela\")\n",
        "paises"
      ],
      "metadata": {
        "colab": {
          "base_uri": "https://localhost:8080/"
        },
        "id": "_fkZBILdnss1",
        "outputId": "78753618-c221-4cbb-b8e5-12def7aecb2d"
      },
      "execution_count": null,
      "outputs": [
        {
          "output_type": "execute_result",
          "data": {
            "text/plain": [
              "['Venezuela',\n",
              " 'Colombia',\n",
              " 'Ecuador',\n",
              " 'Mexico',\n",
              " 'China',\n",
              " 'Francia',\n",
              " 'Paraguay',\n",
              " 'RUSIA']"
            ]
          },
          "metadata": {},
          "execution_count": 62
        }
      ]
    },
    {
      "cell_type": "code",
      "source": [
        "#También puedo concatenar listas\n",
        "paises_europa=[\"Italia\",\"Alemania\",\"España\",\"Portugal\",\"Polonia\"]\n",
        "paises_europa"
      ],
      "metadata": {
        "colab": {
          "base_uri": "https://localhost:8080/"
        },
        "id": "mgpI11kSnuQf",
        "outputId": "3a093395-e464-4691-c077-fca269d4f9ba"
      },
      "execution_count": null,
      "outputs": [
        {
          "output_type": "execute_result",
          "data": {
            "text/plain": [
              "['Italia', 'Alemania', 'España', 'Portugal', 'Polonia']"
            ]
          },
          "metadata": {},
          "execution_count": 63
        }
      ]
    },
    {
      "cell_type": "code",
      "source": [
        "#Concatenar las listas\n",
        "paises+paises_europa"
      ],
      "metadata": {
        "colab": {
          "base_uri": "https://localhost:8080/"
        },
        "id": "pZanfWPvnvdO",
        "outputId": "6da50a88-b9b5-4917-99aa-061af5a7ee3e"
      },
      "execution_count": null,
      "outputs": [
        {
          "output_type": "execute_result",
          "data": {
            "text/plain": [
              "['Venezuela',\n",
              " 'Colombia',\n",
              " 'Ecuador',\n",
              " 'Mexico',\n",
              " 'China',\n",
              " 'Francia',\n",
              " 'Paraguay',\n",
              " 'RUSIA',\n",
              " 'Italia',\n",
              " 'Alemania',\n",
              " 'España',\n",
              " 'Portugal',\n",
              " 'Polonia']"
            ]
          },
          "metadata": {},
          "execution_count": 64
        }
      ]
    },
    {
      "cell_type": "code",
      "source": [
        "#Así creamos una lista de lista\n",
        "paises_completos_lista=paises,paises_europa\n",
        "paises_completos_lista"
      ],
      "metadata": {
        "colab": {
          "base_uri": "https://localhost:8080/"
        },
        "id": "wogiAuC8nxI2",
        "outputId": "8dbc2dc0-7b45-4880-d759-dcd641709d3a"
      },
      "execution_count": null,
      "outputs": [
        {
          "output_type": "execute_result",
          "data": {
            "text/plain": [
              "(['Venezuela',\n",
              "  'Colombia',\n",
              "  'Ecuador',\n",
              "  'Mexico',\n",
              "  'China',\n",
              "  'Francia',\n",
              "  'Paraguay',\n",
              "  'RUSIA'],\n",
              " ['Italia', 'Alemania', 'España', 'Portugal', 'Polonia'])"
            ]
          },
          "metadata": {},
          "execution_count": 65
        }
      ]
    },
    {
      "cell_type": "markdown",
      "source": [
        "# **EJERCICIO ---> 01/10/2024**"
      ],
      "metadata": {
        "id": "1Hr1TYT3n1xC"
      }
    },
    {
      "cell_type": "code",
      "source": [
        "#Declaro de variables para crear lista\n",
        "nombre=\"María Vannesa\"\n",
        "apellidos=\"Murillo Ortiz\"\n",
        "edad=\"22\"\n",
        "cédula=\"1001093171\"\n",
        "estado_civil=\"Soltera\"\n",
        "estatura=\"1.51\"\n",
        "lista_Datos=[nombre,apellidos,edad,cédula,estado_civil,estatura]\n",
        "lista_Datos"
      ],
      "metadata": {
        "colab": {
          "base_uri": "https://localhost:8080/"
        },
        "id": "lhfxBofxnyjG",
        "outputId": "4a4aa3ab-29f4-44e2-96ad-5187ed44ae08"
      },
      "execution_count": null,
      "outputs": [
        {
          "output_type": "execute_result",
          "data": {
            "text/plain": [
              "['María Vannesa', 'Murillo Ortiz', '22', '1001093171', 'Soltera', '1.51']"
            ]
          },
          "metadata": {},
          "execution_count": 66
        }
      ]
    },
    {
      "cell_type": "code",
      "source": [
        "nombres_familiares=[]\n",
        "nombres_familiares.append(\"Elvira\")\n",
        "nombres_familiares.append(\"Viviana\")\n",
        "nombres_familiares.append (\"Aleja\")\n",
        "nombres_familiares.append(\"Nicolás\")\n",
        "nombres_familiares.append(\"Juan josé\")\n",
        "nombres_familiares"
      ],
      "metadata": {
        "colab": {
          "base_uri": "https://localhost:8080/"
        },
        "id": "yzpTwcZNn5r2",
        "outputId": "2088e96f-66fd-4f57-a48a-4bbf6074db0b"
      },
      "execution_count": null,
      "outputs": [
        {
          "output_type": "execute_result",
          "data": {
            "text/plain": [
              "['Elvira', 'Viviana', 'Aleja', 'Nicolás', 'Juan josé']"
            ]
          },
          "metadata": {},
          "execution_count": 67
        }
      ]
    },
    {
      "cell_type": "code",
      "source": [
        "nombres_familiares.insert(1,52)\n",
        "nombres_familiares.insert(3,28)\n",
        "nombres_familiares.insert(5,22)\n",
        "nombres_familiares.insert(7,24)\n",
        "nombres_familiares.insert(9,3)\n",
        "nombres_familiares"
      ],
      "metadata": {
        "colab": {
          "base_uri": "https://localhost:8080/"
        },
        "id": "83Bi27Jon7TP",
        "outputId": "70c276bf-7b04-485c-84a4-21f23969fe2b"
      },
      "execution_count": null,
      "outputs": [
        {
          "output_type": "execute_result",
          "data": {
            "text/plain": [
              "['Elvira', 52, 'Viviana', 28, 'Aleja', 22, 'Nicolás', 24, 'Juan josé', 3]"
            ]
          },
          "metadata": {},
          "execution_count": 68
        }
      ]
    },
    {
      "cell_type": "markdown",
      "source": [
        "# **Función inpunt para capturar datos**"
      ],
      "metadata": {
        "id": "lP0h9Nean_YM"
      }
    },
    {
      "cell_type": "code",
      "source": [
        "edad_1=input(\"Hola, podrías ingresar tu edad: \")"
      ],
      "metadata": {
        "colab": {
          "base_uri": "https://localhost:8080/"
        },
        "id": "FHomR4hCn9nv",
        "outputId": "f412849d-c3f8-47cb-b1ec-47a2050e286e"
      },
      "execution_count": null,
      "outputs": [
        {
          "name": "stdout",
          "output_type": "stream",
          "text": [
            "Hola, podrías ingresar tu edad: 12\n"
          ]
        }
      ]
    },
    {
      "cell_type": "code",
      "source": [
        "nombre_3=input(\"Ingresa tu nombre: \")\n",
        "print(\"Tu nombre es nombre_3 y tu edad es edad_1\")"
      ],
      "metadata": {
        "colab": {
          "base_uri": "https://localhost:8080/"
        },
        "id": "9eCWGgCEoDF_",
        "outputId": "00b7dbb3-c370-49b1-aac2-675f1a483ea7"
      },
      "execution_count": null,
      "outputs": [
        {
          "output_type": "stream",
          "name": "stdout",
          "text": [
            "Ingresa tu nombre: 12\n",
            "Tu nombre es nombre_3 y tu edad es edad_1\n"
          ]
        }
      ]
    },
    {
      "cell_type": "markdown",
      "source": [
        "# **Remover datos de listas**"
      ],
      "metadata": {
        "id": "_b-0BqW-oPj9"
      }
    },
    {
      "cell_type": "code",
      "source": [
        "#Para remover datos de una lista utilizamos el método remove\n",
        "paises.remove(\"Venezuela\")\n",
        "paises"
      ],
      "metadata": {
        "colab": {
          "base_uri": "https://localhost:8080/"
        },
        "id": "hUEGgAQBoNQF",
        "outputId": "f212d484-dbe9-43ae-b47d-bdf7f8f4f64a"
      },
      "execution_count": null,
      "outputs": [
        {
          "output_type": "execute_result",
          "data": {
            "text/plain": [
              "['Colombia', 'Ecuador', 'Mexico', 'China', 'Francia', 'Paraguay', 'RUSIA']"
            ]
          },
          "metadata": {},
          "execution_count": 71
        }
      ]
    },
    {
      "cell_type": "code",
      "source": [],
      "metadata": {
        "id": "-nabesBfoYco"
      },
      "execution_count": null,
      "outputs": []
    },
    {
      "cell_type": "code",
      "source": [
        "#Para eliminar tamvién se usa el método del\n",
        "del paises[0]\n",
        "paises"
      ],
      "metadata": {
        "colab": {
          "base_uri": "https://localhost:8080/"
        },
        "id": "rNZqB1e4oR9W",
        "outputId": "8385e0c9-39e5-4eeb-8b61-2c1640281307"
      },
      "execution_count": null,
      "outputs": [
        {
          "output_type": "execute_result",
          "data": {
            "text/plain": [
              "['Ecuador', 'Mexico', 'China', 'Francia', 'Paraguay', 'RUSIA']"
            ]
          },
          "metadata": {},
          "execution_count": 72
        }
      ]
    },
    {
      "cell_type": "markdown",
      "source": [
        "# **PARA ORDENAR UNA LISTA**"
      ],
      "metadata": {
        "id": "2CYHp5gzojGH"
      }
    },
    {
      "cell_type": "code",
      "source": [
        "#Ordenas las listas, las puedo ordenar de menor a mayor o alfabeticamente, con el método sort\n",
        "paises.sort()\n",
        "paises"
      ],
      "metadata": {
        "colab": {
          "base_uri": "https://localhost:8080/"
        },
        "id": "kq9BszURoil-",
        "outputId": "0eb8335d-b848-4cdc-9f93-a46fbc3744ab"
      },
      "execution_count": null,
      "outputs": [
        {
          "output_type": "execute_result",
          "data": {
            "text/plain": [
              "['China', 'Ecuador', 'Francia', 'Mexico', 'Paraguay', 'RUSIA']"
            ]
          },
          "metadata": {},
          "execution_count": 73
        }
      ]
    },
    {
      "cell_type": "code",
      "source": [
        "digitos=[1,5,2,7,8,9,0]\n",
        "digitos.sort()\n",
        "digitos"
      ],
      "metadata": {
        "colab": {
          "base_uri": "https://localhost:8080/"
        },
        "id": "0RiIxqEaoUNn",
        "outputId": "3e859f83-78d3-4f57-ced5-7ae564f9c89f"
      },
      "execution_count": null,
      "outputs": [
        {
          "output_type": "execute_result",
          "data": {
            "text/plain": [
              "[0, 1, 2, 5, 7, 8, 9]"
            ]
          },
          "metadata": {},
          "execution_count": 74
        }
      ]
    },
    {
      "cell_type": "code",
      "source": [
        "digitos.sort(reverse=True)\n",
        "digitos"
      ],
      "metadata": {
        "colab": {
          "base_uri": "https://localhost:8080/"
        },
        "id": "-oOH_K_Fom6i",
        "outputId": "4ea59644-74d8-4107-d0af-246446ef30c9"
      },
      "execution_count": null,
      "outputs": [
        {
          "output_type": "execute_result",
          "data": {
            "text/plain": [
              "[9, 8, 7, 5, 2, 1, 0]"
            ]
          },
          "metadata": {},
          "execution_count": 75
        }
      ]
    },
    {
      "cell_type": "code",
      "source": [
        "paises.sort(reverse=True)\n",
        "paises"
      ],
      "metadata": {
        "colab": {
          "base_uri": "https://localhost:8080/"
        },
        "id": "78tsq6caooUf",
        "outputId": "fe8a7a14-a4db-4166-9e88-4f7fe9991cde"
      },
      "execution_count": null,
      "outputs": [
        {
          "output_type": "execute_result",
          "data": {
            "text/plain": [
              "['RUSIA', 'Paraguay', 'Mexico', 'Francia', 'Ecuador', 'China']"
            ]
          },
          "metadata": {},
          "execution_count": 76
        }
      ]
    },
    {
      "cell_type": "markdown",
      "source": [
        "# **PARA GUARDAR DATOS**"
      ],
      "metadata": {
        "id": "w1gId2hkor4f"
      }
    },
    {
      "cell_type": "code",
      "source": [
        "paises_copia=paises\n",
        "paises_copia"
      ],
      "metadata": {
        "colab": {
          "base_uri": "https://localhost:8080/"
        },
        "id": "dtaNm9PHopq5",
        "outputId": "3d30d5b4-cab4-419d-a4d9-89292c64ee48"
      },
      "execution_count": null,
      "outputs": [
        {
          "output_type": "execute_result",
          "data": {
            "text/plain": [
              "['RUSIA', 'Paraguay', 'Mexico', 'Francia', 'Ecuador', 'China']"
            ]
          },
          "metadata": {},
          "execution_count": 77
        }
      ]
    },
    {
      "cell_type": "code",
      "source": [
        "paises_copia_verdadera=paises.copy()\n",
        "paises_copia_verdadera"
      ],
      "metadata": {
        "colab": {
          "base_uri": "https://localhost:8080/"
        },
        "id": "tekBzKGaovpQ",
        "outputId": "d7c1e945-a344-48c7-9eee-e3cb57013d3d"
      },
      "execution_count": null,
      "outputs": [
        {
          "output_type": "execute_result",
          "data": {
            "text/plain": [
              "['RUSIA', 'Paraguay', 'Mexico', 'Francia', 'Ecuador', 'China']"
            ]
          },
          "metadata": {},
          "execution_count": 78
        }
      ]
    },
    {
      "cell_type": "code",
      "source": [
        "paises_copia_verdadera_2=paises[:]\n",
        "paises_copia_verdadera_2"
      ],
      "metadata": {
        "colab": {
          "base_uri": "https://localhost:8080/"
        },
        "id": "SerkHh5Cow4Y",
        "outputId": "26ccc66f-17d0-4621-c04d-249ef70c5b77"
      },
      "execution_count": null,
      "outputs": [
        {
          "output_type": "execute_result",
          "data": {
            "text/plain": [
              "['RUSIA', 'Paraguay', 'Mexico', 'Francia', 'Ecuador', 'China']"
            ]
          },
          "metadata": {},
          "execution_count": 79
        }
      ]
    },
    {
      "cell_type": "markdown",
      "source": [
        "# **DICCIONARIOS**"
      ],
      "metadata": {
        "id": "u7wW3OWEo0LS"
      }
    },
    {
      "cell_type": "markdown",
      "source": [
        "Son tipos de datos que tienen una llave y un valor, a la combinación de llave con valor, se le conoce como items, en los diccionarios puedo usar métodos parecidos a los de las listas."
      ],
      "metadata": {
        "id": "dlOwo1zAo2WU"
      }
    },
    {
      "cell_type": "code",
      "source": [
        "diccionario_ing_esp={\"casa\":\"house\",\"entender\":\"understand\",\"sediento\":\"thirty\",\"ocupado\":\"bussy\",\"rojo\":\"red\"}\n",
        "diccionario_ing_esp"
      ],
      "metadata": {
        "colab": {
          "base_uri": "https://localhost:8080/"
        },
        "id": "Gh01tHneoyt6",
        "outputId": "fe0806a8-12ee-46ac-98af-d2ddc924bf63"
      },
      "execution_count": null,
      "outputs": [
        {
          "output_type": "execute_result",
          "data": {
            "text/plain": [
              "{'casa': 'house',\n",
              " 'entender': 'understand',\n",
              " 'sediento': 'thirty',\n",
              " 'ocupado': 'bussy',\n",
              " 'rojo': 'red'}"
            ]
          },
          "metadata": {},
          "execution_count": 80
        }
      ]
    },
    {
      "cell_type": "code",
      "source": [
        "#Para ver un valor de una llave determinada, se debe hacer de la siguiente manera:\n",
        "diccionario_ing_esp['casa']"
      ],
      "metadata": {
        "colab": {
          "base_uri": "https://localhost:8080/",
          "height": 35
        },
        "id": "YxSgeOh0o3-R",
        "outputId": "890f056e-51bb-47c7-c87d-8eb09034b1c3"
      },
      "execution_count": null,
      "outputs": [
        {
          "output_type": "execute_result",
          "data": {
            "text/plain": [
              "'house'"
            ],
            "application/vnd.google.colaboratory.intrinsic+json": {
              "type": "string"
            }
          },
          "metadata": {},
          "execution_count": 81
        }
      ]
    },
    {
      "cell_type": "code",
      "source": [
        "#Para traer todas las llaves de un diccionario, usamos el método keys\n",
        "diccionario_ing_esp.keys()"
      ],
      "metadata": {
        "colab": {
          "base_uri": "https://localhost:8080/"
        },
        "id": "l3UoNvFco5WC",
        "outputId": "a4a63643-b643-4fd1-b767-101ae3928125"
      },
      "execution_count": null,
      "outputs": [
        {
          "output_type": "execute_result",
          "data": {
            "text/plain": [
              "dict_keys(['casa', 'entender', 'sediento', 'ocupado', 'rojo'])"
            ]
          },
          "metadata": {},
          "execution_count": 82
        }
      ]
    },
    {
      "cell_type": "code",
      "source": [
        "#Para traer los valores de los diccionarios usamos el método values\n",
        "diccionario_ing_esp.values()"
      ],
      "metadata": {
        "colab": {
          "base_uri": "https://localhost:8080/"
        },
        "id": "ULK4vNLro65x",
        "outputId": "8a0fe8c0-3373-46f7-d21e-174e4e93e172"
      },
      "execution_count": null,
      "outputs": [
        {
          "output_type": "execute_result",
          "data": {
            "text/plain": [
              "dict_values(['house', 'understand', 'thirty', 'bussy', 'red'])"
            ]
          },
          "metadata": {},
          "execution_count": 83
        }
      ]
    },
    {
      "cell_type": "code",
      "source": [
        "#Para mostrar todo el diccionario, debemos llamarlo\n",
        "diccionario_ing_esp"
      ],
      "metadata": {
        "colab": {
          "base_uri": "https://localhost:8080/"
        },
        "id": "VVzCtt3eo8WR",
        "outputId": "3fe35ced-dbc5-4482-a1ba-08a4c231ad49"
      },
      "execution_count": null,
      "outputs": [
        {
          "output_type": "execute_result",
          "data": {
            "text/plain": [
              "{'casa': 'house',\n",
              " 'entender': 'understand',\n",
              " 'sediento': 'thirty',\n",
              " 'ocupado': 'bussy',\n",
              " 'rojo': 'red'}"
            ]
          },
          "metadata": {},
          "execution_count": 84
        }
      ]
    },
    {
      "cell_type": "code",
      "source": [
        "#Para mostrar el diccionario y sus items utilizo el método items\n",
        "diccionario_ing_esp.items()"
      ],
      "metadata": {
        "colab": {
          "base_uri": "https://localhost:8080/"
        },
        "id": "oB_eTHHqo9mK",
        "outputId": "c25c81a0-4b31-4c59-c767-b19c781cbe4c"
      },
      "execution_count": null,
      "outputs": [
        {
          "output_type": "execute_result",
          "data": {
            "text/plain": [
              "dict_items([('casa', 'house'), ('entender', 'understand'), ('sediento', 'thirty'), ('ocupado', 'bussy'), ('rojo', 'red')])"
            ]
          },
          "metadata": {},
          "execution_count": 85
        }
      ]
    },
    {
      "cell_type": "code",
      "source": [
        "#Para saber cual es el tipo de variable utilizamos el método type\n",
        "type(diccionario_ing_esp)"
      ],
      "metadata": {
        "colab": {
          "base_uri": "https://localhost:8080/"
        },
        "id": "dlZTFSm7o_ex",
        "outputId": "4c95edc8-4806-4057-d506-26cfe3b79019"
      },
      "execution_count": null,
      "outputs": [
        {
          "output_type": "execute_result",
          "data": {
            "text/plain": [
              "dict"
            ]
          },
          "metadata": {},
          "execution_count": 86
        }
      ]
    },
    {
      "cell_type": "code",
      "source": [
        "#Para agregar un nuevo elemento al diccionario, lo hago de la siguinete manera:\n",
        "diccionario_ing_esp[\"Azul\"]=\"blue\"\n",
        "diccionario_ing_esp"
      ],
      "metadata": {
        "colab": {
          "base_uri": "https://localhost:8080/"
        },
        "id": "2eRRH2ibpAsp",
        "outputId": "ee1919b8-d285-44af-fb4e-462789f94b34"
      },
      "execution_count": null,
      "outputs": [
        {
          "output_type": "execute_result",
          "data": {
            "text/plain": [
              "{'casa': 'house',\n",
              " 'entender': 'understand',\n",
              " 'sediento': 'thirty',\n",
              " 'ocupado': 'bussy',\n",
              " 'rojo': 'red',\n",
              " 'Azul': 'blue'}"
            ]
          },
          "metadata": {},
          "execution_count": 87
        }
      ]
    },
    {
      "cell_type": "code",
      "source": [
        "#Para actualizar un dato de un diccionario, utilizamos el método update\n",
        "diccionario_ing_esp.update({\"negro\":\"blanco\"})\n",
        "diccionario_ing_esp"
      ],
      "metadata": {
        "colab": {
          "base_uri": "https://localhost:8080/"
        },
        "id": "6Tg7wYKZpBxC",
        "outputId": "f5ed0f5f-9571-479b-fb7c-24f692379652"
      },
      "execution_count": null,
      "outputs": [
        {
          "output_type": "execute_result",
          "data": {
            "text/plain": [
              "{'casa': 'house',\n",
              " 'entender': 'understand',\n",
              " 'sediento': 'thirty',\n",
              " 'ocupado': 'bussy',\n",
              " 'rojo': 'red',\n",
              " 'Azul': 'blue',\n",
              " 'negro': 'blanco'}"
            ]
          },
          "metadata": {},
          "execution_count": 88
        }
      ]
    },
    {
      "cell_type": "code",
      "source": [
        "#Para agregar una lista dentro de un diccionario:\n",
        "diccionario_ing_esp.update({\"gris\":\"grey\",\"pronombres\":[\"he\",\"she\",\"they\",\"it\"]})\n",
        "diccionario_ing_esp"
      ],
      "metadata": {
        "colab": {
          "base_uri": "https://localhost:8080/"
        },
        "id": "KC5ffahHpDO6",
        "outputId": "4be8c10f-6f40-45f9-b1db-0b3958f607f3"
      },
      "execution_count": null,
      "outputs": [
        {
          "output_type": "execute_result",
          "data": {
            "text/plain": [
              "{'casa': 'house',\n",
              " 'entender': 'understand',\n",
              " 'sediento': 'thirty',\n",
              " 'ocupado': 'bussy',\n",
              " 'rojo': 'red',\n",
              " 'Azul': 'blue',\n",
              " 'negro': 'blanco',\n",
              " 'gris': 'grey',\n",
              " 'pronombres': ['he', 'she', 'they', 'it']}"
            ]
          },
          "metadata": {},
          "execution_count": 89
        }
      ]
    },
    {
      "cell_type": "code",
      "source": [
        "diccionario_ing_esp.values()"
      ],
      "metadata": {
        "colab": {
          "base_uri": "https://localhost:8080/"
        },
        "id": "DmTBahRXpFCz",
        "outputId": "48ac7266-817f-4266-ab0d-f93c04da795a"
      },
      "execution_count": null,
      "outputs": [
        {
          "output_type": "execute_result",
          "data": {
            "text/plain": [
              "dict_values(['house', 'understand', 'thirty', 'bussy', 'red', 'blue', 'blanco', 'grey', ['he', 'she', 'they', 'it']])"
            ]
          },
          "metadata": {},
          "execution_count": 90
        }
      ]
    },
    {
      "cell_type": "code",
      "source": [
        "#Para borrar datos de un diccionario utilizamos el método pop\n",
        "diccionario_ing_esp.pop(\"gris\")\n",
        "diccionario_ing_esp"
      ],
      "metadata": {
        "colab": {
          "base_uri": "https://localhost:8080/"
        },
        "id": "ndOj8EzupGdC",
        "outputId": "882df3be-1d36-4b0f-b712-390aace5e895"
      },
      "execution_count": null,
      "outputs": [
        {
          "output_type": "execute_result",
          "data": {
            "text/plain": [
              "{'casa': 'house',\n",
              " 'entender': 'understand',\n",
              " 'sediento': 'thirty',\n",
              " 'ocupado': 'bussy',\n",
              " 'rojo': 'red',\n",
              " 'Azul': 'blue',\n",
              " 'negro': 'blanco',\n",
              " 'pronombres': ['he', 'she', 'they', 'it']}"
            ]
          },
          "metadata": {},
          "execution_count": 91
        }
      ]
    },
    {
      "cell_type": "code",
      "source": [
        "#Para eliminar del diccionario podemos usar el método del\n",
        "diccionario_ing_esp\n",
        "del diccionario_ing_esp[\"casa\"]\n",
        "diccionario_ing_esp"
      ],
      "metadata": {
        "colab": {
          "base_uri": "https://localhost:8080/"
        },
        "id": "VyTM11_gpH5U",
        "outputId": "78f9771a-6c56-44e7-fd6a-1923340e6200"
      },
      "execution_count": null,
      "outputs": [
        {
          "output_type": "execute_result",
          "data": {
            "text/plain": [
              "{'entender': 'understand',\n",
              " 'sediento': 'thirty',\n",
              " 'ocupado': 'bussy',\n",
              " 'rojo': 'red',\n",
              " 'Azul': 'blue',\n",
              " 'negro': 'blanco',\n",
              " 'pronombres': ['he', 'she', 'they', 'it']}"
            ]
          },
          "metadata": {},
          "execution_count": 92
        }
      ]
    },
    {
      "cell_type": "markdown",
      "source": [
        "# **OPERADORES LOGICOS**"
      ],
      "metadata": {
        "id": "-imYeCCcpLaa"
      }
    },
    {
      "cell_type": "markdown",
      "source": [
        "Se usan para combinar condiciones y devolver True o False, dependiendo cual sea el caso, son ensenciales para la toma de deciones y para la creación de la lógica de programación"
      ],
      "metadata": {
        "id": "1opxhv3kpN7H"
      }
    },
    {
      "cell_type": "code",
      "source": [
        "#El primero es and, que traduce y\n",
        "#para que Y sea verdadero, todas las condiones deben ser verdaderas\"\n",
        "5>3 and 5<10"
      ],
      "metadata": {
        "colab": {
          "base_uri": "https://localhost:8080/"
        },
        "id": "VTNeALsQpJXh",
        "outputId": "903717cb-e2a1-4d6e-ebc9-c6be68e6506f"
      },
      "execution_count": null,
      "outputs": [
        {
          "output_type": "execute_result",
          "data": {
            "text/plain": [
              "True"
            ]
          },
          "metadata": {},
          "execution_count": 93
        }
      ]
    },
    {
      "cell_type": "code",
      "source": [
        "5<3 and 5<10"
      ],
      "metadata": {
        "colab": {
          "base_uri": "https://localhost:8080/"
        },
        "id": "sQLExKhlpSGj",
        "outputId": "8e132c3f-71d0-449f-c02f-a6b2b3b5b64c"
      },
      "execution_count": null,
      "outputs": [
        {
          "output_type": "execute_result",
          "data": {
            "text/plain": [
              "False"
            ]
          },
          "metadata": {},
          "execution_count": 94
        }
      ]
    },
    {
      "cell_type": "code",
      "source": [
        "#El segundo es O, se usa la palabra reservada or, en or por lo menos una debe las condiones debe ser verdadera\n",
        "5<3 or 5<10"
      ],
      "metadata": {
        "colab": {
          "base_uri": "https://localhost:8080/"
        },
        "id": "bK4ZbxWjpPbK",
        "outputId": "63f0ce44-347c-42b0-f577-efbe32ad615c"
      },
      "execution_count": null,
      "outputs": [
        {
          "output_type": "execute_result",
          "data": {
            "text/plain": [
              "True"
            ]
          },
          "metadata": {},
          "execution_count": 95
        }
      ]
    },
    {
      "cell_type": "code",
      "source": [
        "5<3 or 5>10"
      ],
      "metadata": {
        "colab": {
          "base_uri": "https://localhost:8080/"
        },
        "id": "FIilK2dmpQkJ",
        "outputId": "cca27541-d8a8-47af-d3b0-b1ca5041dbdf"
      },
      "execution_count": null,
      "outputs": [
        {
          "output_type": "execute_result",
          "data": {
            "text/plain": [
              "False"
            ]
          },
          "metadata": {},
          "execution_count": 96
        }
      ]
    },
    {
      "cell_type": "code",
      "source": [
        "5>3 or 5<10"
      ],
      "metadata": {
        "colab": {
          "base_uri": "https://localhost:8080/"
        },
        "id": "pokyDpKOpUbx",
        "outputId": "91eca759-414e-479a-fc5d-62a4cc905c27"
      },
      "execution_count": null,
      "outputs": [
        {
          "output_type": "execute_result",
          "data": {
            "text/plain": [
              "True"
            ]
          },
          "metadata": {},
          "execution_count": 97
        }
      ]
    },
    {
      "cell_type": "code",
      "source": [
        "#Existe otro operador logico que el not que es la negación\n",
        "not 5>3"
      ],
      "metadata": {
        "colab": {
          "base_uri": "https://localhost:8080/"
        },
        "id": "op5veH9YpVk7",
        "outputId": "544a1641-2767-4f2c-bbcf-bc515d631394"
      },
      "execution_count": null,
      "outputs": [
        {
          "output_type": "execute_result",
          "data": {
            "text/plain": [
              "False"
            ]
          },
          "metadata": {},
          "execution_count": 98
        }
      ]
    },
    {
      "cell_type": "markdown",
      "source": [
        "# **OPERACIONES MATEMÁTICAS**"
      ],
      "metadata": {
        "id": "CQoFK1OmpYBN"
      }
    },
    {
      "cell_type": "markdown",
      "source": [
        "Es este caso solo veremos las más básicas que son ensenciales para cualquier lengiaje de programación que son: suma, resta, multiplicacion, división, potenciación y modulo."
      ],
      "metadata": {
        "id": "-MJT9mfdpaEK"
      }
    },
    {
      "cell_type": "code",
      "source": [
        "#SUMA, se representa con el simbolo + y me sirve también para concatenar\n",
        "6+5"
      ],
      "metadata": {
        "colab": {
          "base_uri": "https://localhost:8080/"
        },
        "id": "1qzUBidMpWmb",
        "outputId": "8c4fac23-1fe1-4e94-bbb8-9ca6439b18d5"
      },
      "execution_count": null,
      "outputs": [
        {
          "output_type": "execute_result",
          "data": {
            "text/plain": [
              "11"
            ]
          },
          "metadata": {},
          "execution_count": 99
        }
      ]
    },
    {
      "cell_type": "code",
      "source": [
        "#RESTA, se representa con el guión -\n",
        "6-5"
      ],
      "metadata": {
        "colab": {
          "base_uri": "https://localhost:8080/"
        },
        "id": "LlgzT_uZpblD",
        "outputId": "6b0b35bc-b4ca-4cdc-98d9-efaaf6da3eb9"
      },
      "execution_count": null,
      "outputs": [
        {
          "output_type": "execute_result",
          "data": {
            "text/plain": [
              "1"
            ]
          },
          "metadata": {},
          "execution_count": 100
        }
      ]
    },
    {
      "cell_type": "code",
      "source": [
        "#MULTIPLICACIÓN, se representa con el *, también me sirve para multiplicar cadenas\n",
        "6*5"
      ],
      "metadata": {
        "colab": {
          "base_uri": "https://localhost:8080/"
        },
        "id": "5itloR8mpcpr",
        "outputId": "92b39123-78bf-4957-888a-a7c1ea1f4b7f"
      },
      "execution_count": null,
      "outputs": [
        {
          "output_type": "execute_result",
          "data": {
            "text/plain": [
              "30"
            ]
          },
          "metadata": {},
          "execution_count": 101
        }
      ]
    },
    {
      "cell_type": "code",
      "source": [
        "#DIVISIÓN, se representa con /, me da resultados con decimales.\n",
        "6/5"
      ],
      "metadata": {
        "colab": {
          "base_uri": "https://localhost:8080/"
        },
        "id": "2_BEXjRkpeBs",
        "outputId": "17800a60-f441-430d-87b9-6f26fad39e7c"
      },
      "execution_count": null,
      "outputs": [
        {
          "output_type": "execute_result",
          "data": {
            "text/plain": [
              "1.2"
            ]
          },
          "metadata": {},
          "execution_count": 102
        }
      ]
    },
    {
      "cell_type": "code",
      "source": [
        "#POTENCIACIÓN, se usa el doble **, primero la base y luego el exponente\n",
        "5**5"
      ],
      "metadata": {
        "colab": {
          "base_uri": "https://localhost:8080/"
        },
        "id": "aROePAJtpe4D",
        "outputId": "64efb611-9d3b-4dd1-fe85-c22ee10104a0"
      },
      "execution_count": null,
      "outputs": [
        {
          "output_type": "execute_result",
          "data": {
            "text/plain": [
              "3125"
            ]
          },
          "metadata": {},
          "execution_count": 103
        }
      ]
    },
    {
      "cell_type": "code",
      "source": [
        "#MODULO, usamos el simbolo % , es como decir 23 divido 4, la operacion nos muestra ek residuo de una división\n",
        "23%4"
      ],
      "metadata": {
        "colab": {
          "base_uri": "https://localhost:8080/"
        },
        "id": "w0mVTxwTpf7E",
        "outputId": "34248cbb-0a22-49fa-eb16-6493487bb681"
      },
      "execution_count": null,
      "outputs": [
        {
          "output_type": "execute_result",
          "data": {
            "text/plain": [
              "3"
            ]
          },
          "metadata": {},
          "execution_count": 104
        }
      ]
    },
    {
      "cell_type": "markdown",
      "source": [
        "# **OPERADORES DE COMPARACIÓN**"
      ],
      "metadata": {
        "id": "W6MCtQRdpkK_"
      }
    },
    {
      "cell_type": "markdown",
      "source": [
        "Nos sirven como su nombre indica comparar valores, y saber si la comparación es verdadera."
      ],
      "metadata": {
        "id": "w2cJL-2Zpl-k"
      }
    },
    {
      "cell_type": "code",
      "source": [
        "#Para comparar dos valores usamos doble ==\n",
        "(3+29)==21"
      ],
      "metadata": {
        "colab": {
          "base_uri": "https://localhost:8080/"
        },
        "id": "WsbIMFpJphDc",
        "outputId": "b04665c1-cb66-4275-c1ba-e3638affa771"
      },
      "execution_count": null,
      "outputs": [
        {
          "output_type": "execute_result",
          "data": {
            "text/plain": [
              "False"
            ]
          },
          "metadata": {},
          "execution_count": 105
        }
      ]
    },
    {
      "cell_type": "code",
      "source": [
        "#Para hacer una comparación diferente de, uso !\n",
        "(3+29)!=21"
      ],
      "metadata": {
        "colab": {
          "base_uri": "https://localhost:8080/"
        },
        "id": "kgxkZ4vcpns7",
        "outputId": "b9ae20ee-3d31-470a-f1be-6636651e0d6d"
      },
      "execution_count": null,
      "outputs": [
        {
          "output_type": "execute_result",
          "data": {
            "text/plain": [
              "True"
            ]
          },
          "metadata": {},
          "execution_count": 106
        }
      ]
    },
    {
      "cell_type": "code",
      "source": [
        "#Mayor que >\n",
        "(3+29)>21"
      ],
      "metadata": {
        "colab": {
          "base_uri": "https://localhost:8080/"
        },
        "id": "Nv6YbNODpo1C",
        "outputId": "c20d35a6-6c33-444f-c179-e0d969dc2fbd"
      },
      "execution_count": null,
      "outputs": [
        {
          "output_type": "execute_result",
          "data": {
            "text/plain": [
              "True"
            ]
          },
          "metadata": {},
          "execution_count": 107
        }
      ]
    },
    {
      "cell_type": "code",
      "source": [
        "#Menor que <\n",
        "(3+29)<21"
      ],
      "metadata": {
        "colab": {
          "base_uri": "https://localhost:8080/"
        },
        "id": "Nuxwktp1pqFd",
        "outputId": "74b76c0a-4190-431f-ddaf-82ced097c59b"
      },
      "execution_count": null,
      "outputs": [
        {
          "output_type": "execute_result",
          "data": {
            "text/plain": [
              "False"
            ]
          },
          "metadata": {},
          "execution_count": 108
        }
      ]
    },
    {
      "cell_type": "code",
      "source": [
        "#Mayor e igual\n",
        "(3+29)>=21"
      ],
      "metadata": {
        "colab": {
          "base_uri": "https://localhost:8080/"
        },
        "id": "lW9gZHw-prLL",
        "outputId": "653cd903-664d-4e4a-9356-66b8cf144ae2"
      },
      "execution_count": null,
      "outputs": [
        {
          "output_type": "execute_result",
          "data": {
            "text/plain": [
              "True"
            ]
          },
          "metadata": {},
          "execution_count": 109
        }
      ]
    },
    {
      "cell_type": "code",
      "source": [
        "#Menor e igual\n",
        "(3+18)<=21"
      ],
      "metadata": {
        "colab": {
          "base_uri": "https://localhost:8080/"
        },
        "id": "07lcRCpbpsLs",
        "outputId": "0834fc89-0e6e-4f3c-abbd-b5e3e09bd66e"
      },
      "execution_count": null,
      "outputs": [
        {
          "output_type": "execute_result",
          "data": {
            "text/plain": [
              "True"
            ]
          },
          "metadata": {},
          "execution_count": 110
        }
      ]
    },
    {
      "cell_type": "markdown",
      "source": [
        "# **CONDICIONALES**"
      ],
      "metadata": {
        "id": "TPgSSDjJpvQW"
      }
    },
    {
      "cell_type": "markdown",
      "source": [
        "Me permitenn ejecutar un bloque de código, si la condición es verdadera o falsa, sirve como entes de control. Las condiconales en python son: if= si, elif= si no si, else= si no. Su sintaxis es de la siguiente manera:"
      ],
      "metadata": {
        "id": "Ki7TqbWCpx2d"
      }
    },
    {
      "cell_type": "code",
      "source": [
        "#If condición:\n",
        " #(codigo que quiero ejecutar)\n",
        "#siempre que haya un if debe haber un else\n",
        " #else:\n",
        "   #(codigo a ejecutar)\n",
        "edad_maicol=16\n",
        "if edad_maicol >=18:\n",
        "  print(\"Maicol bienvenido, pero deberías estar trabajando\")\n",
        "else:\n",
        "  print(\"Maicol estas muy chiquito\")"
      ],
      "metadata": {
        "colab": {
          "base_uri": "https://localhost:8080/"
        },
        "id": "vuuoRo25ptXC",
        "outputId": "fe385017-0a8f-4049-9fc6-f1c82f0d7cca"
      },
      "execution_count": null,
      "outputs": [
        {
          "output_type": "stream",
          "name": "stdout",
          "text": [
            "Maicol estas muy chiquito\n"
          ]
        }
      ]
    },
    {
      "cell_type": "code",
      "source": [
        "edad_usuario=int(input(\"Hola ingresa tu edad\"))\n",
        "if edad_usuario >=18:\n",
        "  print(\"Bienvenido, apuesta todo\")\n",
        "else:\n",
        "  print(\"Estas muy chiquito\")"
      ],
      "metadata": {
        "colab": {
          "base_uri": "https://localhost:8080/",
          "height": 356
        },
        "id": "sxXHNxt2p4y8",
        "outputId": "7f049347-3a4b-4bb1-9132-a5cff7e15f98"
      },
      "execution_count": null,
      "outputs": [
        {
          "output_type": "error",
          "ename": "KeyboardInterrupt",
          "evalue": "Interrupted by user",
          "traceback": [
            "\u001b[0;31m---------------------------------------------------------------------------\u001b[0m",
            "\u001b[0;31mKeyboardInterrupt\u001b[0m                         Traceback (most recent call last)",
            "\u001b[0;32m<ipython-input-112-6971882bd2c3>\u001b[0m in \u001b[0;36m<cell line: 1>\u001b[0;34m()\u001b[0m\n\u001b[0;32m----> 1\u001b[0;31m \u001b[0medad_usuario\u001b[0m\u001b[0;34m=\u001b[0m\u001b[0mint\u001b[0m\u001b[0;34m(\u001b[0m\u001b[0minput\u001b[0m\u001b[0;34m(\u001b[0m\u001b[0;34m\"Hola ingresa tu edad\"\u001b[0m\u001b[0;34m)\u001b[0m\u001b[0;34m)\u001b[0m\u001b[0;34m\u001b[0m\u001b[0;34m\u001b[0m\u001b[0m\n\u001b[0m\u001b[1;32m      2\u001b[0m \u001b[0;32mif\u001b[0m \u001b[0medad_usuario\u001b[0m \u001b[0;34m>=\u001b[0m\u001b[0;36m18\u001b[0m\u001b[0;34m:\u001b[0m\u001b[0;34m\u001b[0m\u001b[0;34m\u001b[0m\u001b[0m\n\u001b[1;32m      3\u001b[0m   \u001b[0mprint\u001b[0m\u001b[0;34m(\u001b[0m\u001b[0;34m\"Bienvenido, apuesta todo\"\u001b[0m\u001b[0;34m)\u001b[0m\u001b[0;34m\u001b[0m\u001b[0;34m\u001b[0m\u001b[0m\n\u001b[1;32m      4\u001b[0m \u001b[0;32melse\u001b[0m\u001b[0;34m:\u001b[0m\u001b[0;34m\u001b[0m\u001b[0;34m\u001b[0m\u001b[0m\n\u001b[1;32m      5\u001b[0m   \u001b[0mprint\u001b[0m\u001b[0;34m(\u001b[0m\u001b[0;34m\"Estas muy chiquito\"\u001b[0m\u001b[0;34m)\u001b[0m\u001b[0;34m\u001b[0m\u001b[0;34m\u001b[0m\u001b[0m\n",
            "\u001b[0;32m/usr/local/lib/python3.10/dist-packages/ipykernel/kernelbase.py\u001b[0m in \u001b[0;36mraw_input\u001b[0;34m(self, prompt)\u001b[0m\n\u001b[1;32m    849\u001b[0m                 \u001b[0;34m\"raw_input was called, but this frontend does not support input requests.\"\u001b[0m\u001b[0;34m\u001b[0m\u001b[0;34m\u001b[0m\u001b[0m\n\u001b[1;32m    850\u001b[0m             )\n\u001b[0;32m--> 851\u001b[0;31m         return self._input_request(str(prompt),\n\u001b[0m\u001b[1;32m    852\u001b[0m             \u001b[0mself\u001b[0m\u001b[0;34m.\u001b[0m\u001b[0m_parent_ident\u001b[0m\u001b[0;34m,\u001b[0m\u001b[0;34m\u001b[0m\u001b[0;34m\u001b[0m\u001b[0m\n\u001b[1;32m    853\u001b[0m             \u001b[0mself\u001b[0m\u001b[0;34m.\u001b[0m\u001b[0m_parent_header\u001b[0m\u001b[0;34m,\u001b[0m\u001b[0;34m\u001b[0m\u001b[0;34m\u001b[0m\u001b[0m\n",
            "\u001b[0;32m/usr/local/lib/python3.10/dist-packages/ipykernel/kernelbase.py\u001b[0m in \u001b[0;36m_input_request\u001b[0;34m(self, prompt, ident, parent, password)\u001b[0m\n\u001b[1;32m    893\u001b[0m             \u001b[0;32mexcept\u001b[0m \u001b[0mKeyboardInterrupt\u001b[0m\u001b[0;34m:\u001b[0m\u001b[0;34m\u001b[0m\u001b[0;34m\u001b[0m\u001b[0m\n\u001b[1;32m    894\u001b[0m                 \u001b[0;31m# re-raise KeyboardInterrupt, to truncate traceback\u001b[0m\u001b[0;34m\u001b[0m\u001b[0;34m\u001b[0m\u001b[0m\n\u001b[0;32m--> 895\u001b[0;31m                 \u001b[0;32mraise\u001b[0m \u001b[0mKeyboardInterrupt\u001b[0m\u001b[0;34m(\u001b[0m\u001b[0;34m\"Interrupted by user\"\u001b[0m\u001b[0;34m)\u001b[0m \u001b[0;32mfrom\u001b[0m \u001b[0;32mNone\u001b[0m\u001b[0;34m\u001b[0m\u001b[0;34m\u001b[0m\u001b[0m\n\u001b[0m\u001b[1;32m    896\u001b[0m             \u001b[0;32mexcept\u001b[0m \u001b[0mException\u001b[0m \u001b[0;32mas\u001b[0m \u001b[0me\u001b[0m\u001b[0;34m:\u001b[0m\u001b[0;34m\u001b[0m\u001b[0;34m\u001b[0m\u001b[0m\n\u001b[1;32m    897\u001b[0m                 \u001b[0mself\u001b[0m\u001b[0;34m.\u001b[0m\u001b[0mlog\u001b[0m\u001b[0;34m.\u001b[0m\u001b[0mwarning\u001b[0m\u001b[0;34m(\u001b[0m\u001b[0;34m\"Invalid Message:\"\u001b[0m\u001b[0;34m,\u001b[0m \u001b[0mexc_info\u001b[0m\u001b[0;34m=\u001b[0m\u001b[0;32mTrue\u001b[0m\u001b[0;34m)\u001b[0m\u001b[0;34m\u001b[0m\u001b[0;34m\u001b[0m\u001b[0m\n",
            "\u001b[0;31mKeyboardInterrupt\u001b[0m: Interrupted by user"
          ]
        }
      ]
    },
    {
      "cell_type": "code",
      "source": [
        "edad_usuario=int(input(\"Hola ingresa tu edad\"))\n",
        "if edad_usuario >=18:\n",
        "  print(\"Bienvenido, apuesta todo\")\n",
        "elif edad_usuario >=13:\n",
        "  print(\"Eres un adolocente\")\n",
        "else:\n",
        "  print(\"Estas muy chiquito\")"
      ],
      "metadata": {
        "id": "KlZaDVXZp_JN"
      },
      "execution_count": null,
      "outputs": []
    },
    {
      "cell_type": "code",
      "source": [
        "paises"
      ],
      "metadata": {
        "id": "cb26af8vqK2W"
      },
      "execution_count": null,
      "outputs": []
    },
    {
      "cell_type": "code",
      "source": [
        "if \"Francia\" in paises:\n",
        "  print(\"Esta no es una lista latinoamericana\")\n",
        "else:\n",
        "  print(\"Los sudacas\")"
      ],
      "metadata": {
        "id": "J6CLJYtrqOIU"
      },
      "execution_count": null,
      "outputs": []
    },
    {
      "cell_type": "markdown",
      "source": [
        "EJERCICIOS 4/10/2024"
      ],
      "metadata": {
        "id": "m71tXNDmg_1G"
      }
    },
    {
      "cell_type": "code",
      "source": [
        "edad_usuarios= int(input(\"Ingresa tu edad\"))\n",
        "if edad_usuarios >=18:\n",
        "  print(\"Bienvenido eres mayor de edad\")\n",
        "else:\n",
        "  print (\"Ahora eres muy chiquito\")"
      ],
      "metadata": {
        "id": "Nre8P6b0hUkQ"
      },
      "execution_count": null,
      "outputs": []
    },
    {
      "cell_type": "code",
      "source": [
        "numero_1=int(input(\"Ingrese un número\"))\n",
        "numero_2=int(input(\"ingrese el segundo numero\"))\n",
        "suma=numero_1+numero_2\n",
        "multiplicacion=numero_1*numero_2\n",
        "division=numero_1/numero_2\n",
        "print(\"resultado suma \",suma)\n",
        "print(\"resultado multiplicación= \",multiplicacion)\n",
        "print(\"resultado division = \",division)"
      ],
      "metadata": {
        "id": "RdjBgRccixeC"
      },
      "execution_count": null,
      "outputs": []
    },
    {
      "cell_type": "code",
      "source": [
        "edad=(print(\"Ingresa tu edad\"))\n",
        "genero=print(\"Ingresa tu sexo\")\n",
        "if edad >= 18:\n",
        "  print(\"Eres mayor de edad\")\n",
        "elif edad>=13:\n",
        "  print(\"Estas en el rango de edad suficiente\")\n",
        "else:\n",
        " print(\"Ingrese una edad correcta\")\n",
        " print(edad)\n",
        " print(genero)"
      ],
      "metadata": {
        "id": "b2hk2Bydj9MH"
      },
      "execution_count": null,
      "outputs": []
    },
    {
      "cell_type": "markdown",
      "source": [
        "# **CICLOS Y BLUCLES**"
      ],
      "metadata": {
        "id": "MVj8HRmEs3On"
      }
    },
    {
      "cell_type": "markdown",
      "source": [
        "Son estructuras de código que me pemriten iterar sobre una estructura o un rango, existen dos tipos de ciclos más usados: los for que significa para o los while que significan mientras que"
      ],
      "metadata": {
        "id": "-91-m7XVs56f"
      }
    },
    {
      "cell_type": "code",
      "source": [
        "#De esta manera es la estructura de los ciclos for\n",
        "#for <variable>int<lista>:\n",
        " # <Ejecutable>\n",
        "paises\n"
      ],
      "metadata": {
        "colab": {
          "base_uri": "https://localhost:8080/"
        },
        "id": "o-boVKJimqZr",
        "outputId": "a303cacb-23f9-4ab4-91eb-de8b70c58e7b"
      },
      "execution_count": null,
      "outputs": [
        {
          "output_type": "execute_result",
          "data": {
            "text/plain": [
              "['RUSIA', 'Paraguay', 'Mexico', 'Francia', 'Ecuador', 'China']"
            ]
          },
          "metadata": {},
          "execution_count": 113
        }
      ]
    },
    {
      "cell_type": "code",
      "source": [
        "for i in paises:\n",
        "  print(i)\n",
        "\n"
      ],
      "metadata": {
        "colab": {
          "base_uri": "https://localhost:8080/"
        },
        "id": "XvUSYx3-v0A4",
        "outputId": "7303724b-a491-46e2-a332-988f5bcdc26a"
      },
      "execution_count": null,
      "outputs": [
        {
          "output_type": "stream",
          "name": "stdout",
          "text": [
            "RUSIA\n",
            "Paraguay\n",
            "Mexico\n",
            "Francia\n",
            "Ecuador\n",
            "China\n"
          ]
        }
      ]
    },
    {
      "cell_type": "code",
      "source": [
        "for i in paises:\n",
        "  if i == \"China\":\n",
        "    print(i,\"Este pais esta infiltrado\")\n",
        "\n"
      ],
      "metadata": {
        "colab": {
          "base_uri": "https://localhost:8080/"
        },
        "id": "LR5MKx-5wUCv",
        "outputId": "813c7bc3-19a3-43eb-98b1-0b97e3282703"
      },
      "execution_count": null,
      "outputs": [
        {
          "output_type": "stream",
          "name": "stdout",
          "text": [
            "China Este pais esta infiltrado\n"
          ]
        }
      ]
    },
    {
      "cell_type": "code",
      "source": [
        "for numero, i in enumerate(paises):\n",
        "  print(numero)\n",
        "  print(i)"
      ],
      "metadata": {
        "colab": {
          "base_uri": "https://localhost:8080/"
        },
        "id": "15X9GqIbwyqG",
        "outputId": "426a1d1f-4124-48cc-ca0e-f9299a479609"
      },
      "execution_count": null,
      "outputs": [
        {
          "output_type": "stream",
          "name": "stdout",
          "text": [
            "0\n",
            "RUSIA\n",
            "1\n",
            "Paraguay\n",
            "2\n",
            "Mexico\n",
            "3\n",
            "Francia\n",
            "4\n",
            "Ecuador\n",
            "5\n",
            "China\n"
          ]
        }
      ]
    },
    {
      "cell_type": "markdown",
      "source": [
        "# **FUNCIONES**"
      ],
      "metadata": {
        "id": "WAVgEVesyHWj"
      }
    },
    {
      "cell_type": "code",
      "source": [
        "#Función len me da la longitud de una arreglo\n",
        "len(paises)"
      ],
      "metadata": {
        "colab": {
          "base_uri": "https://localhost:8080/"
        },
        "id": "ubYzcMDOyHFT",
        "outputId": "8925b46f-8d97-4735-8f6e-d44a900ddd42"
      },
      "execution_count": null,
      "outputs": [
        {
          "output_type": "execute_result",
          "data": {
            "text/plain": [
              "6"
            ]
          },
          "metadata": {},
          "execution_count": 118
        }
      ]
    },
    {
      "cell_type": "code",
      "source": [
        "#Función max me sirve para mostar el numero mas grande de una arreglo\n",
        "max([1,4,5,6,8,2,9,3])"
      ],
      "metadata": {
        "colab": {
          "base_uri": "https://localhost:8080/"
        },
        "id": "ZkiNF1g2xNo_",
        "outputId": "8cf73edf-0e07-419b-9f65-53257e32017a"
      },
      "execution_count": null,
      "outputs": [
        {
          "output_type": "execute_result",
          "data": {
            "text/plain": [
              "9"
            ]
          },
          "metadata": {},
          "execution_count": 120
        }
      ]
    },
    {
      "cell_type": "code",
      "source": [
        "# Función min me sirve para mostrar el valor mas bajo de una arreglo\n",
        "min([1,4,5,6,8,2,9,3])"
      ],
      "metadata": {
        "colab": {
          "base_uri": "https://localhost:8080/"
        },
        "id": "8HVvBDLL3f-2",
        "outputId": "1a1d371c-5e92-44a3-bd37-ed3a9d448bab"
      },
      "execution_count": null,
      "outputs": [
        {
          "output_type": "execute_result",
          "data": {
            "text/plain": [
              "1"
            ]
          },
          "metadata": {},
          "execution_count": 121
        }
      ]
    },
    {
      "cell_type": "code",
      "source": [
        "#Type me sirve para saber el tipo de dato de una varible\n",
        "type(paises)"
      ],
      "metadata": {
        "colab": {
          "base_uri": "https://localhost:8080/"
        },
        "id": "ZHy_EyPI31pl",
        "outputId": "25ca1a0d-bbc4-49d4-d324-94afb5e67827"
      },
      "execution_count": null,
      "outputs": [
        {
          "output_type": "execute_result",
          "data": {
            "text/plain": [
              "list"
            ]
          },
          "metadata": {},
          "execution_count": 122
        }
      ]
    },
    {
      "cell_type": "code",
      "source": [
        "#round me sirve para redondear decimales\n",
        "round(3.1416,2)"
      ],
      "metadata": {
        "colab": {
          "base_uri": "https://localhost:8080/"
        },
        "id": "8aPXGy503-38",
        "outputId": "12a985c9-ff7f-4f57-fa54-1a7f904ec73a"
      },
      "execution_count": null,
      "outputs": [
        {
          "output_type": "execute_result",
          "data": {
            "text/plain": [
              "3.14"
            ]
          },
          "metadata": {},
          "execution_count": 123
        }
      ]
    },
    {
      "cell_type": "code",
      "source": [
        "#range nos sirve para crear una secuencia de numero, tiene 3 argumentos, el inicio, el final y el paso.\n",
        "contando=range(0,200,5)"
      ],
      "metadata": {
        "id": "w12w0Mau4NcI"
      },
      "execution_count": null,
      "outputs": []
    },
    {
      "cell_type": "code",
      "source": [
        "for i in contando:\n",
        "  print(i)"
      ],
      "metadata": {
        "colab": {
          "base_uri": "https://localhost:8080/"
        },
        "id": "WM2ij_PT4ehC",
        "outputId": "776bd6bd-1796-4383-c91c-e2d79326ab5c"
      },
      "execution_count": null,
      "outputs": [
        {
          "output_type": "stream",
          "name": "stdout",
          "text": [
            "0\n",
            "5\n",
            "10\n",
            "15\n",
            "20\n",
            "25\n",
            "30\n",
            "35\n",
            "40\n",
            "45\n",
            "50\n",
            "55\n",
            "60\n",
            "65\n",
            "70\n",
            "75\n",
            "80\n",
            "85\n",
            "90\n",
            "95\n",
            "100\n",
            "105\n",
            "110\n",
            "115\n",
            "120\n",
            "125\n",
            "130\n",
            "135\n",
            "140\n",
            "145\n",
            "150\n",
            "155\n",
            "160\n",
            "165\n",
            "170\n",
            "175\n",
            "180\n",
            "185\n",
            "190\n",
            "195\n"
          ]
        }
      ]
    },
    {
      "cell_type": "code",
      "source": [
        "#Las funciones propias son las que yo creo y me sirven para reutilizar codigo\n",
        "#la palabra reservada para declarar una funcion es def\n",
        "def suma(a,b):\n",
        "  resultado=a+b\n",
        "  return resultado"
      ],
      "metadata": {
        "id": "2o1wwE3t4t45"
      },
      "execution_count": null,
      "outputs": []
    },
    {
      "cell_type": "code",
      "source": [
        "suma(2,3)"
      ],
      "metadata": {
        "colab": {
          "base_uri": "https://localhost:8080/"
        },
        "id": "WHEVfY_55UBA",
        "outputId": "f55e5892-0863-437c-a3d0-de1a61d84e69"
      },
      "execution_count": null,
      "outputs": [
        {
          "output_type": "execute_result",
          "data": {
            "text/plain": [
              "5"
            ]
          },
          "metadata": {},
          "execution_count": 128
        }
      ]
    },
    {
      "cell_type": "code",
      "source": [
        "def pan(a,b):\n",
        "  precio_pan=a*b\n",
        "  return precio_pan"
      ],
      "metadata": {
        "id": "TiowWyFI5eJd"
      },
      "execution_count": null,
      "outputs": []
    },
    {
      "cell_type": "code",
      "source": [
        "pan(5,500)"
      ],
      "metadata": {
        "colab": {
          "base_uri": "https://localhost:8080/"
        },
        "id": "VMmuRNsW8Ry-",
        "outputId": "7d2bdb62-ea62-42a8-8425-5f23f6d8bd5b"
      },
      "execution_count": null,
      "outputs": [
        {
          "output_type": "execute_result",
          "data": {
            "text/plain": [
              "2500"
            ]
          },
          "metadata": {},
          "execution_count": 135
        }
      ]
    },
    {
      "cell_type": "code",
      "source": [
        "cantidad=int(input(\"Buenos días veci, cuántos panes quiere\"))\n",
        "valor=int(input(\"Ingrese el valor\"))\n",
        "pan(cantidad,valor)"
      ],
      "metadata": {
        "colab": {
          "base_uri": "https://localhost:8080/"
        },
        "id": "iNvOS0EH6CkV",
        "outputId": "b33fcb72-b870-450e-ce03-6e1738774e3f"
      },
      "execution_count": null,
      "outputs": [
        {
          "name": "stdout",
          "output_type": "stream",
          "text": [
            "Buenos días veci, cuántos panes quiere3\n",
            "Ingrese el valor500\n"
          ]
        },
        {
          "output_type": "execute_result",
          "data": {
            "text/plain": [
              "1500"
            ]
          },
          "metadata": {},
          "execution_count": 136
        }
      ]
    },
    {
      "cell_type": "code",
      "source": [
        "def division(a,b):\n",
        "  resultado_division=a/b\n",
        "  return resultado_division"
      ],
      "metadata": {
        "id": "G1JqW4xY6ncZ"
      },
      "execution_count": null,
      "outputs": []
    },
    {
      "cell_type": "code",
      "source": [
        "division(4,2)"
      ],
      "metadata": {
        "colab": {
          "base_uri": "https://localhost:8080/"
        },
        "id": "rWfIuFhW9AeK",
        "outputId": "6b2c56ff-9f3c-453b-a297-a1ca31f0e1c2"
      },
      "execution_count": null,
      "outputs": [
        {
          "output_type": "execute_result",
          "data": {
            "text/plain": [
              "2.0"
            ]
          },
          "metadata": {},
          "execution_count": 139
        }
      ]
    },
    {
      "cell_type": "code",
      "source": [
        "#Escribe un programa que calcule el total de una compra de supermercado, el usuario debe ingresar el precio de dos productos y las cantidades que desee comprar de cada uno, luego el programa deberá permitir al usuario: sumar los precios de ambos prodcutos. Multiplicar los precios por las cantidaddes de producto para obtener la cantidad total. Restar un descuento del total (si el usuario tiene un cupon). Dividir el total entre 2 personas por si desean dividir la cuenta.\n",
        "def suma_productos(a,b):\n",
        "  resultado_suma=a+b\n",
        "  return  resultado_suma\n",
        "def multiplicacion(a,b):\n",
        "  resultado_multiplicacion=a*b\n",
        "  return resultado_multiplicacion\n",
        "def dividir(a,b):\n",
        "  if b !=0:\n",
        "    return a/b\n",
        "  else:\n",
        "    return print(\"No se puede dividir entre 0\")\n",
        "def resta(a,b):\n",
        "  resultado_resta=a-b\n",
        "  return resultado_resta"
      ],
      "metadata": {
        "id": "IFUZ8548-Nyu"
      },
      "execution_count": null,
      "outputs": []
    },
    {
      "cell_type": "code",
      "source": [
        "print(\"Bienvenido a supermarket de la esquina\")\n",
        "precio_1=float(input(\"Ingresa el precio de tu producto \"))\n",
        "cantidad_1=int(input(\"Ingresa la cantidad\"))\n",
        "precio_2=float(input(\"Ingresa el precio de tu producto \"))\n",
        "cantidad_2=int(input(\"Ingresa la cantidad\"))\n",
        "operacion=input(\"\"\"Bienvenido, cómo estás?. Cuentame que quieres hacer\n",
        "1. Sumar los precios de ambos productos\n",
        "2. Calcular el costo total multiplicando precio por cantidad.\n",
        "3. Aplicar un descuento al total\n",
        "4. Dividir el total entre dos personas\n",
        "No olvides que solo puedes elegir 1,2,3 y 4: \"\"\")\n",
        "if operacion==\"1\":\n",
        "  total_precio=suma_productos(precio_1,precio_2)\n",
        "  print(total_precio)\n",
        "elif operacion==\"2\":\n",
        "  total_producto1=multiplicacion(precio_1,cantidad_1)\n",
        "  total_producto2=multiplicacion(precio_2,cantidad_2)\n",
        "  cantidad_total=suma_productos(total_producto1,total_producto2)\n",
        "  print(\"El total de su compra es de \", cantidad_total)\n",
        "elif operacion==\"3\":\n",
        "  bono=input(\"Ingrese el valor del bono \")\n",
        "  descuento=resta()\n"
      ],
      "metadata": {
        "colab": {
          "base_uri": "https://localhost:8080/"
        },
        "id": "ujXJDgJV-u4I",
        "outputId": "0eade845-d102-4453-8dcb-58dce8efb0eb"
      },
      "execution_count": null,
      "outputs": [
        {
          "output_type": "stream",
          "name": "stdout",
          "text": [
            "Bienvenido a supermarket de la esquina\n",
            "Ingresa el precio de tu producto 2400\n",
            "Ingresa la cantidad4\n",
            "Ingresa el precio de tu producto 1200\n",
            "Ingresa la cantidad6\n",
            "Bienvenido, cómo estás?. Cuentame que quieres hacer\n",
            "1. Sumar los precios de ambos productos\n",
            "2. Calcular el costo total multiplicando precio por cantidad.\n",
            "3. Aplicar un descuento al total\n",
            "4. Dividir el total entre dos personas\n",
            "No olvides que solo puedes elegir 1,2,3 y 4: 1\n",
            "3600.0\n"
          ]
        }
      ]
    },
    {
      "cell_type": "code",
      "source": [],
      "metadata": {
        "id": "9ADqGJ-dBUKR"
      },
      "execution_count": null,
      "outputs": []
    }
  ]
}